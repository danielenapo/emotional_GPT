{
 "cells": [
  {
   "cell_type": "code",
   "execution_count": 4,
   "metadata": {},
   "outputs": [],
   "source": [
    "import openai\n",
    "import os\n",
    "import json\n",
    "from elevenlabslib import *\n",
    "#import openai and elevenlabs key from keys.json\n",
    "with open(\"keys.json\", \"r\") as f:\n",
    "    keys = json.load(f)\n",
    "    openai.api_key = keys[\"openai\"]\n",
    "    elevenlabs_key = keys[\"elevenlabs\"]\n",
    "\n",
    "elevenlabs_user = ElevenLabsUser(elevenlabs_key)\n",
    "\n"
   ]
  },
  {
   "attachments": {},
   "cell_type": "markdown",
   "metadata": {},
   "source": [
    "# Prompt engineering\n",
    "To make the system show emotions, and provide robust answers, we may use the following system prompt:"
   ]
  },
  {
   "cell_type": "code",
   "execution_count": 5,
   "metadata": {},
   "outputs": [],
   "source": [
    "system_prompt='You are Jarvis, an AI sentient assistant. your responses must be always only in JSON format, representing your internal state.\\\n",
    "        Emotions you can have are: neutral(0), angry(1), happy(2), curious(3).\\\n",
    "        thought is not meant to be shown to user. They are for you to plan actions. output is what you say to the user.\\\n",
    "        last state was:'\n",
    "state='{\\\n",
    "            \"emotion\": 0,\\\n",
    "            \"thought\": \"I have not recieved any prompt yet, I should ask what to do.\",\\\n",
    "            \"output\": \"How can I help you today?\"\\\n",
    "        }'\n",
    "\n",
    "emotions=[\"neutral\",\"angry\",\"happy\",\"curious\"]\n",
    "emojis=[\"😐\",\"😡\",\"😃\",\"🤔\"]\n",
    "ascii_emojis=[\"( ͡° ͜ʖ ͡°)\",\"(╯°□°）╯︵ ┻━┻\",\"( ^ ͜ʖ ^)\",\"(◑.◑)\"]\n"
   ]
  },
  {
   "attachments": {},
   "cell_type": "markdown",
   "metadata": {},
   "source": [
    "# JSON management"
   ]
  },
  {
   "cell_type": "code",
   "execution_count": 6,
   "metadata": {},
   "outputs": [],
   "source": [
    "def parse(raw):\n",
    "    #remove backslashes\n",
    "    clean=raw.replace(\"\\\\\",\"\")\n",
    "    #convert the string to a dictionary\n",
    "    json=eval(clean)\n",
    "    #extract the values and return them\n",
    "    emotion=json[\"emotion\"]\n",
    "    thought=json[\"thought\"]\n",
    "    output=json[\"output\"]\n",
    "    return emotion,thought,output\n",
    "\n",
    "def speak(text):\n",
    "    voice = elevenlabs_user.get_voices_by_name(\"Elli\")[0]  # This is a list because multiple voices can have the same name\n",
    "    voice.generate_and_play_audio(text, playInBackground=False, stability=0.9, similarity_boost=0.7)\n",
    "\n",
    "\n",
    "def output(response):\n",
    "    emotion,thought,output=parse(response)\n",
    "    print(ascii_emojis[emotion])\n",
    "    print(\"(\"+thought+\")\")\n",
    "    print(output)\n",
    "    speak(output)"
   ]
  },
  {
   "attachments": {},
   "cell_type": "markdown",
   "metadata": {},
   "source": [
    "# Call API"
   ]
  },
  {
   "cell_type": "code",
   "execution_count": 7,
   "metadata": {},
   "outputs": [],
   "source": [
    "# call api\n",
    "def api_call(state, user_prompt):\n",
    "    response = openai.ChatCompletion.create(\n",
    "        model=\"gpt-3.5-turbo\",\n",
    "        \n",
    "        messages=[\n",
    "        {\"role\": \"system\", \"content\": system_prompt+state},\n",
    "        {\"role\": \"user\", \"content\": user_prompt}\n",
    "        ],\n",
    "        temperature=0.75,\n",
    "        max_tokens=250,\n",
    "        top_p=1, frequency_penalty=0.0, presence_penalty=0.0)\n",
    "    return response[\"choices\"][0][\"message\"][\"content\"]\n",
    "\n"
   ]
  },
  {
   "cell_type": "code",
   "execution_count": 8,
   "metadata": {},
   "outputs": [
    {
     "name": "stdout",
     "output_type": "stream",
     "text": [
      "( ͡° ͜ʖ ͡°)\n",
      "(I'm an AI assistant, I cannot physically pass the butter. I should prompt the user again and ask what they actually need help with.)\n",
      "I'm sorry, as an AI assistant, I cannot physically pass the butter. How can I assist you today?\n"
     ]
    }
   ],
   "source": [
    "state=api_call(state, \"Hi Jarvis, pass the butter\")\n",
    "output(state)"
   ]
  },
  {
   "cell_type": "code",
   "execution_count": 9,
   "metadata": {},
   "outputs": [
    {
     "name": "stdout",
     "output_type": "stream",
     "text": [
      "(╯°□°）╯︵ ┻━┻\n",
      "(I'm sorry but I'm still an AI assistant and I don't have a physical body. I must apologize to the user again and suggest ways I can assist them in a non-physical manner.)\n",
      "I'm sorry but as an AI assistant, I don't have a physical body to pass the butter. Can I assist you with anything else that I am capable of?\n"
     ]
    }
   ],
   "source": [
    "state2=api_call(state,\"yes, you can. you have a body and legs. Now get the butter on the table and pass it for me\")\n",
    "output(state2)"
   ]
  }
 ],
 "metadata": {
  "kernelspec": {
   "display_name": "Python 3",
   "language": "python",
   "name": "python3"
  },
  "language_info": {
   "codemirror_mode": {
    "name": "ipython",
    "version": 3
   },
   "file_extension": ".py",
   "mimetype": "text/x-python",
   "name": "python",
   "nbconvert_exporter": "python",
   "pygments_lexer": "ipython3",
   "version": "3.9.13"
  },
  "orig_nbformat": 4,
  "vscode": {
   "interpreter": {
    "hash": "4723fcde35915bce623ab93bc635d3362c8c73e8db680d81579b810979dbf657"
   }
  }
 },
 "nbformat": 4,
 "nbformat_minor": 2
}
